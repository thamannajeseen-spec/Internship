{
  "nbformat": 4,
  "nbformat_minor": 0,
  "metadata": {
    "colab": {
      "provenance": [],
      "mount_file_id": "1sSmMbefGi1L_iCokNK_7TQ9OmpZV6Rmh",
      "authorship_tag": "ABX9TyOJE2zEbR8I2SQ+2DMCpuLx",
      "include_colab_link": true
    },
    "kernelspec": {
      "name": "python3",
      "display_name": "Python 3"
    },
    "language_info": {
      "name": "python"
    }
  },
  "cells": [
    {
      "cell_type": "markdown",
      "metadata": {
        "id": "view-in-github",
        "colab_type": "text"
      },
      "source": [
        "<a href=\"https://colab.research.google.com/github/thamannajeseen-spec/Internship/blob/main/newyork.ipynb\" target=\"_parent\"><img src=\"https://colab.research.google.com/assets/colab-badge.svg\" alt=\"Open In Colab\"/></a>"
      ]
    },
    {
      "cell_type": "code",
      "source": [
        "import pandas as pd\n",
        "df=pd.read_csv(\"/content/drive/MyDrive/nyc_weather.csv\")\n",
        "a=df['Temperature'].max()\n",
        "print(a,'is maximum temperature in January')\n",
        "print('Rainy days are \\n',df[df['Events'] == 'Rain'])\n",
        "b=df['WindSpeedMPH'].mean()\n",
        "print('Average speed of wind is :\\n',b)"
      ],
      "metadata": {
        "colab": {
          "base_uri": "https://localhost:8080/"
        },
        "id": "NlpyOsJnYpFJ",
        "outputId": "60f8bec1-d7a9-41e2-f445-39ee1b115335"
      },
      "execution_count": 27,
      "outputs": [
        {
          "output_type": "stream",
          "name": "stdout",
          "text": [
            "50 is maximum temperature in January\n",
            "Rainy days are \n",
            "           EST  Temperature  DewPoint  Humidity  Sea Level PressureIn  \\\n",
            "8    1/9/2016           44        38        77                 30.16   \n",
            "9   1/10/2016           50        46        71                 29.59   \n",
            "15  1/16/2016           47        37        70                 29.52   \n",
            "26  1/27/2016           41        22        45                 30.03   \n",
            "\n",
            "    VisibilityMiles  WindSpeedMPH PrecipitationIn  CloudCover Events  \\\n",
            "8                 9           8.0               T           8   Rain   \n",
            "9                 4           NaN             1.8           7   Rain   \n",
            "15                8           7.0            0.24           7   Rain   \n",
            "26               10           7.0               T           3   Rain   \n",
            "\n",
            "    WindDirDegrees  \n",
            "8               76  \n",
            "9              109  \n",
            "15             340  \n",
            "26             311  \n",
            "Average speed of wind is :\n",
            " 6.892857142857143\n"
          ]
        }
      ]
    }
  ]
}