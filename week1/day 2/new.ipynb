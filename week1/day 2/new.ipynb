{
  "nbformat": 4,
  "nbformat_minor": 0,
  "metadata": {
    "colab": {
      "provenance": [],
      "mount_file_id": "1eNjrzbEgDl1uLT1y-MnpCd50VZAKrGiO",
      "authorship_tag": "ABX9TyPpRjeukZW1kUYuJWAkaVhI",
      "include_colab_link": true
    },
    "kernelspec": {
      "name": "python3",
      "display_name": "Python 3"
    },
    "language_info": {
      "name": "python"
    }
  },
  "cells": [
    {
      "cell_type": "markdown",
      "metadata": {
        "id": "view-in-github",
        "colab_type": "text"
      },
      "source": [
        "<a href=\"https://colab.research.google.com/github/thamannajeseen-spec/Internship/blob/main/new.ipynb\" target=\"_parent\"><img src=\"https://colab.research.google.com/assets/colab-badge.svg\" alt=\"Open In Colab\"/></a>"
      ]
    },
    {
      "cell_type": "code",
      "metadata": {
        "id": "78723636"
      },
      "source": [
        "!cp /content/drive/MyDrive/calculator.py ."
      ],
      "execution_count": 12,
      "outputs": []
    },
    {
      "cell_type": "code",
      "metadata": {
        "colab": {
          "base_uri": "https://localhost:8080/"
        },
        "id": "12050bc4",
        "outputId": "68e88a0b-d1e0-418a-ee25-fcf103a842d2"
      },
      "source": [
        "import calculator as cl\n",
        "print(cl.add(2,3))\n",
        "print(cl.substract(5,1))\n",
        "print(cl.multiply(3,2))\n",
        "print(dir(cl))"
      ],
      "execution_count": 13,
      "outputs": [
        {
          "output_type": "stream",
          "name": "stdout",
          "text": [
            "5\n",
            "4\n",
            "6\n",
            "['__builtins__', '__cached__', '__doc__', '__file__', '__loader__', '__name__', '__package__', '__spec__', 'add', 'multiply', 'substract']\n"
          ]
        }
      ]
    }
  ]
}