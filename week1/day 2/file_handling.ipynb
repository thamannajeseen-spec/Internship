{
  "nbformat": 4,
  "nbformat_minor": 0,
  "metadata": {
    "colab": {
      "provenance": [],
      "authorship_tag": "ABX9TyPKpWyo/ZC7oNrkHYJR3vEt",
      "include_colab_link": true
    },
    "kernelspec": {
      "name": "python3",
      "display_name": "Python 3"
    },
    "language_info": {
      "name": "python"
    }
  },
  "cells": [
    {
      "cell_type": "markdown",
      "metadata": {
        "id": "view-in-github",
        "colab_type": "text"
      },
      "source": [
        "<a href=\"https://colab.research.google.com/github/thamannajeseen-spec/Internship/blob/main/file_handling.ipynb\" target=\"_parent\"><img src=\"https://colab.research.google.com/assets/colab-badge.svg\" alt=\"Open In Colab\"/></a>"
      ]
    },
    {
      "cell_type": "code",
      "source": [
        "with open('notes.txt', 'w') as f:\n",
        "    f.write('hello world.\\n')\n",
        "    f.write('hi python\\n')\n",
        "    f.write('thank you\\n')\n",
        "with open('notes.txt','r') as f:\n",
        "  f.readline()\n",
        "  print(f.readline())\n",
        "  f.readline()\n",
        "with open('notes.txt','a') as f:\n",
        "  f.write('welcome\\n')\n",
        "with open('notes.txt','r') as f:\n",
        "  a=f.read()\n",
        "  print(a)"
      ],
      "metadata": {
        "colab": {
          "base_uri": "https://localhost:8080/"
        },
        "id": "nhKNXJ2Ww1Q2",
        "outputId": "fc99768a-2917-4533-ddb1-70e0ead15a8d"
      },
      "execution_count": 21,
      "outputs": [
        {
          "output_type": "stream",
          "name": "stdout",
          "text": [
            "hi python\n",
            "\n",
            "hello world.\n",
            "hi python\n",
            "thank you\n",
            "welcome\n",
            "\n"
          ]
        }
      ]
    }
  ]
}