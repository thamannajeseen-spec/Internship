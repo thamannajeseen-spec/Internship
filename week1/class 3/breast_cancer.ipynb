{
  "cells": [
    {
      "cell_type": "markdown",
      "metadata": {
        "id": "view-in-github",
        "colab_type": "text"
      },
      "source": [
        "<a href=\"https://colab.research.google.com/github/thamannajeseen-spec/Internship/blob/main/breast_cancer.ipynb\" target=\"_parent\"><img src=\"https://colab.research.google.com/assets/colab-badge.svg\" alt=\"Open In Colab\"/></a>"
      ]
    },
    {
      "cell_type": "code",
      "execution_count": null,
      "id": "32dada5d",
      "metadata": {
        "id": "32dada5d",
        "outputId": "eebc661d-ecda-4f59-f9b8-184b86eb4642"
      },
      "outputs": [
        {
          "data": {
            "text/html": [
              "<div>\n",
              "<style scoped>\n",
              "    .dataframe tbody tr th:only-of-type {\n",
              "        vertical-align: middle;\n",
              "    }\n",
              "\n",
              "    .dataframe tbody tr th {\n",
              "        vertical-align: top;\n",
              "    }\n",
              "\n",
              "    .dataframe thead th {\n",
              "        text-align: right;\n",
              "    }\n",
              "</style>\n",
              "<table border=\"1\" class=\"dataframe\">\n",
              "  <thead>\n",
              "    <tr style=\"text-align: right;\">\n",
              "      <th></th>\n",
              "      <th>class</th>\n",
              "      <th>age</th>\n",
              "      <th>menopause</th>\n",
              "      <th>tumor-size</th>\n",
              "      <th>inv-nodes</th>\n",
              "      <th>node-caps</th>\n",
              "      <th>deg-malig</th>\n",
              "      <th>breast</th>\n",
              "      <th>breast-quad</th>\n",
              "      <th>irradiat</th>\n",
              "    </tr>\n",
              "  </thead>\n",
              "  <tbody>\n",
              "    <tr>\n",
              "      <th>0</th>\n",
              "      <td>no-recurrence-events</td>\n",
              "      <td>30-39</td>\n",
              "      <td>premeno</td>\n",
              "      <td>30-34</td>\n",
              "      <td>0-2</td>\n",
              "      <td>no</td>\n",
              "      <td>3</td>\n",
              "      <td>left</td>\n",
              "      <td>left_low</td>\n",
              "      <td>no</td>\n",
              "    </tr>\n",
              "    <tr>\n",
              "      <th>1</th>\n",
              "      <td>no-recurrence-events</td>\n",
              "      <td>40-49</td>\n",
              "      <td>premeno</td>\n",
              "      <td>20-24</td>\n",
              "      <td>0-2</td>\n",
              "      <td>no</td>\n",
              "      <td>2</td>\n",
              "      <td>right</td>\n",
              "      <td>right_up</td>\n",
              "      <td>no</td>\n",
              "    </tr>\n",
              "    <tr>\n",
              "      <th>2</th>\n",
              "      <td>no-recurrence-events</td>\n",
              "      <td>40-49</td>\n",
              "      <td>premeno</td>\n",
              "      <td>20-24</td>\n",
              "      <td>0-2</td>\n",
              "      <td>no</td>\n",
              "      <td>2</td>\n",
              "      <td>left</td>\n",
              "      <td>left_low</td>\n",
              "      <td>no</td>\n",
              "    </tr>\n",
              "    <tr>\n",
              "      <th>3</th>\n",
              "      <td>no-recurrence-events</td>\n",
              "      <td>60-69</td>\n",
              "      <td>ge40</td>\n",
              "      <td>15-19</td>\n",
              "      <td>0-2</td>\n",
              "      <td>no</td>\n",
              "      <td>2</td>\n",
              "      <td>right</td>\n",
              "      <td>left_up</td>\n",
              "      <td>no</td>\n",
              "    </tr>\n",
              "    <tr>\n",
              "      <th>4</th>\n",
              "      <td>no-recurrence-events</td>\n",
              "      <td>40-49</td>\n",
              "      <td>premeno</td>\n",
              "      <td>0-4</td>\n",
              "      <td>0-2</td>\n",
              "      <td>no</td>\n",
              "      <td>2</td>\n",
              "      <td>right</td>\n",
              "      <td>right_low</td>\n",
              "      <td>no</td>\n",
              "    </tr>\n",
              "  </tbody>\n",
              "</table>\n",
              "</div>"
            ],
            "text/plain": [
              "                  class    age menopause tumor-size inv-nodes node-caps  \\\n",
              "0  no-recurrence-events  30-39   premeno      30-34       0-2        no   \n",
              "1  no-recurrence-events  40-49   premeno      20-24       0-2        no   \n",
              "2  no-recurrence-events  40-49   premeno      20-24       0-2        no   \n",
              "3  no-recurrence-events  60-69      ge40      15-19       0-2        no   \n",
              "4  no-recurrence-events  40-49   premeno        0-4       0-2        no   \n",
              "\n",
              "   deg-malig breast breast-quad irradiat  \n",
              "0          3   left    left_low       no  \n",
              "1          2  right    right_up       no  \n",
              "2          2   left    left_low       no  \n",
              "3          2  right     left_up       no  \n",
              "4          2  right   right_low       no  "
            ]
          },
          "execution_count": 207,
          "metadata": {},
          "output_type": "execute_result"
        }
      ],
      "source": [
        "import pandas as pd\n",
        "import numpy as np\n",
        "import matplotlib.pyplot as plt\n",
        "import seaborn as sns\n",
        "pd.set_option('display.max_rows', None)\n",
        "pd.set_option('display.max_columns', None)\n",
        "pd.set_option('display.width', None)\n",
        "column_names = [\n",
        "    'class',\n",
        "    'age',\n",
        "    'menopause',\n",
        "    'tumor-size',\n",
        "    'inv-nodes',\n",
        "    'node-caps',\n",
        "    'deg-malig',\n",
        "    'breast',\n",
        "    'breast-quad',\n",
        "    'irradiat'\n",
        "]\n",
        "df=pd.read_csv('breast-cancer.data',names=column_names)\n",
        "df.head()\n"
      ]
    },
    {
      "cell_type": "code",
      "execution_count": null,
      "id": "695ff082",
      "metadata": {
        "id": "695ff082",
        "outputId": "40d96d02-d89e-478e-defc-e5a3d5e2b1b7"
      },
      "outputs": [
        {
          "data": {
            "text/plain": [
              "class          object\n",
              "age            object\n",
              "menopause      object\n",
              "tumor-size     object\n",
              "inv-nodes      object\n",
              "node-caps      object\n",
              "deg-malig       int64\n",
              "breast         object\n",
              "breast-quad    object\n",
              "irradiat       object\n",
              "dtype: object"
            ]
          },
          "execution_count": 208,
          "metadata": {},
          "output_type": "execute_result"
        }
      ],
      "source": [
        "df.dtypes"
      ]
    },
    {
      "cell_type": "code",
      "execution_count": null,
      "id": "e0b9a7d9",
      "metadata": {
        "id": "e0b9a7d9",
        "outputId": "f7e7da51-6ba6-4643-a8b0-7d994221c0f5"
      },
      "outputs": [
        {
          "data": {
            "text/plain": [
              "(286, 10)"
            ]
          },
          "execution_count": 209,
          "metadata": {},
          "output_type": "execute_result"
        }
      ],
      "source": [
        "df.shape"
      ]
    },
    {
      "cell_type": "code",
      "execution_count": null,
      "id": "5b9578d2",
      "metadata": {
        "id": "5b9578d2",
        "outputId": "9bf91b36-f0d7-4162-dc43-4487cd23185e"
      },
      "outputs": [
        {
          "data": {
            "text/html": [
              "<div>\n",
              "<style scoped>\n",
              "    .dataframe tbody tr th:only-of-type {\n",
              "        vertical-align: middle;\n",
              "    }\n",
              "\n",
              "    .dataframe tbody tr th {\n",
              "        vertical-align: top;\n",
              "    }\n",
              "\n",
              "    .dataframe thead th {\n",
              "        text-align: right;\n",
              "    }\n",
              "</style>\n",
              "<table border=\"1\" class=\"dataframe\">\n",
              "  <thead>\n",
              "    <tr style=\"text-align: right;\">\n",
              "      <th></th>\n",
              "      <th>0</th>\n",
              "      <th>1</th>\n",
              "      <th>2</th>\n",
              "      <th>3</th>\n",
              "      <th>4</th>\n",
              "      <th>5</th>\n",
              "      <th>6</th>\n",
              "      <th>7</th>\n",
              "      <th>8</th>\n",
              "      <th>9</th>\n",
              "    </tr>\n",
              "  </thead>\n",
              "  <tbody>\n",
              "    <tr>\n",
              "      <th>class</th>\n",
              "      <td>no-recurrence-events</td>\n",
              "      <td>no-recurrence-events</td>\n",
              "      <td>no-recurrence-events</td>\n",
              "      <td>no-recurrence-events</td>\n",
              "      <td>no-recurrence-events</td>\n",
              "      <td>no-recurrence-events</td>\n",
              "      <td>no-recurrence-events</td>\n",
              "      <td>no-recurrence-events</td>\n",
              "      <td>no-recurrence-events</td>\n",
              "      <td>no-recurrence-events</td>\n",
              "    </tr>\n",
              "    <tr>\n",
              "      <th>age</th>\n",
              "      <td>30-39</td>\n",
              "      <td>40-49</td>\n",
              "      <td>40-49</td>\n",
              "      <td>60-69</td>\n",
              "      <td>40-49</td>\n",
              "      <td>60-69</td>\n",
              "      <td>50-59</td>\n",
              "      <td>60-69</td>\n",
              "      <td>40-49</td>\n",
              "      <td>40-49</td>\n",
              "    </tr>\n",
              "    <tr>\n",
              "      <th>menopause</th>\n",
              "      <td>premeno</td>\n",
              "      <td>premeno</td>\n",
              "      <td>premeno</td>\n",
              "      <td>ge40</td>\n",
              "      <td>premeno</td>\n",
              "      <td>ge40</td>\n",
              "      <td>premeno</td>\n",
              "      <td>ge40</td>\n",
              "      <td>premeno</td>\n",
              "      <td>premeno</td>\n",
              "    </tr>\n",
              "    <tr>\n",
              "      <th>tumor-size</th>\n",
              "      <td>30-34</td>\n",
              "      <td>20-24</td>\n",
              "      <td>20-24</td>\n",
              "      <td>15-19</td>\n",
              "      <td>0-4</td>\n",
              "      <td>15-19</td>\n",
              "      <td>25-29</td>\n",
              "      <td>20-24</td>\n",
              "      <td>50-54</td>\n",
              "      <td>20-24</td>\n",
              "    </tr>\n",
              "    <tr>\n",
              "      <th>inv-nodes</th>\n",
              "      <td>0-2</td>\n",
              "      <td>0-2</td>\n",
              "      <td>0-2</td>\n",
              "      <td>0-2</td>\n",
              "      <td>0-2</td>\n",
              "      <td>0-2</td>\n",
              "      <td>0-2</td>\n",
              "      <td>0-2</td>\n",
              "      <td>0-2</td>\n",
              "      <td>0-2</td>\n",
              "    </tr>\n",
              "    <tr>\n",
              "      <th>node-caps</th>\n",
              "      <td>no</td>\n",
              "      <td>no</td>\n",
              "      <td>no</td>\n",
              "      <td>no</td>\n",
              "      <td>no</td>\n",
              "      <td>no</td>\n",
              "      <td>no</td>\n",
              "      <td>no</td>\n",
              "      <td>no</td>\n",
              "      <td>no</td>\n",
              "    </tr>\n",
              "    <tr>\n",
              "      <th>deg-malig</th>\n",
              "      <td>3</td>\n",
              "      <td>2</td>\n",
              "      <td>2</td>\n",
              "      <td>2</td>\n",
              "      <td>2</td>\n",
              "      <td>2</td>\n",
              "      <td>2</td>\n",
              "      <td>1</td>\n",
              "      <td>2</td>\n",
              "      <td>2</td>\n",
              "    </tr>\n",
              "    <tr>\n",
              "      <th>breast</th>\n",
              "      <td>left</td>\n",
              "      <td>right</td>\n",
              "      <td>left</td>\n",
              "      <td>right</td>\n",
              "      <td>right</td>\n",
              "      <td>left</td>\n",
              "      <td>left</td>\n",
              "      <td>left</td>\n",
              "      <td>left</td>\n",
              "      <td>right</td>\n",
              "    </tr>\n",
              "    <tr>\n",
              "      <th>breast-quad</th>\n",
              "      <td>left_low</td>\n",
              "      <td>right_up</td>\n",
              "      <td>left_low</td>\n",
              "      <td>left_up</td>\n",
              "      <td>right_low</td>\n",
              "      <td>left_low</td>\n",
              "      <td>left_low</td>\n",
              "      <td>left_low</td>\n",
              "      <td>left_low</td>\n",
              "      <td>left_up</td>\n",
              "    </tr>\n",
              "    <tr>\n",
              "      <th>irradiat</th>\n",
              "      <td>no</td>\n",
              "      <td>no</td>\n",
              "      <td>no</td>\n",
              "      <td>no</td>\n",
              "      <td>no</td>\n",
              "      <td>no</td>\n",
              "      <td>no</td>\n",
              "      <td>no</td>\n",
              "      <td>no</td>\n",
              "      <td>no</td>\n",
              "    </tr>\n",
              "  </tbody>\n",
              "</table>\n",
              "</div>"
            ],
            "text/plain": [
              "                                0                     1                     2  \\\n",
              "class        no-recurrence-events  no-recurrence-events  no-recurrence-events   \n",
              "age                         30-39                 40-49                 40-49   \n",
              "menopause                 premeno               premeno               premeno   \n",
              "tumor-size                  30-34                 20-24                 20-24   \n",
              "inv-nodes                     0-2                   0-2                   0-2   \n",
              "node-caps                      no                    no                    no   \n",
              "deg-malig                       3                     2                     2   \n",
              "breast                       left                 right                  left   \n",
              "breast-quad              left_low              right_up              left_low   \n",
              "irradiat                       no                    no                    no   \n",
              "\n",
              "                                3                     4                     5  \\\n",
              "class        no-recurrence-events  no-recurrence-events  no-recurrence-events   \n",
              "age                         60-69                 40-49                 60-69   \n",
              "menopause                    ge40               premeno                  ge40   \n",
              "tumor-size                  15-19                   0-4                 15-19   \n",
              "inv-nodes                     0-2                   0-2                   0-2   \n",
              "node-caps                      no                    no                    no   \n",
              "deg-malig                       2                     2                     2   \n",
              "breast                      right                 right                  left   \n",
              "breast-quad               left_up             right_low              left_low   \n",
              "irradiat                       no                    no                    no   \n",
              "\n",
              "                                6                     7                     8  \\\n",
              "class        no-recurrence-events  no-recurrence-events  no-recurrence-events   \n",
              "age                         50-59                 60-69                 40-49   \n",
              "menopause                 premeno                  ge40               premeno   \n",
              "tumor-size                  25-29                 20-24                 50-54   \n",
              "inv-nodes                     0-2                   0-2                   0-2   \n",
              "node-caps                      no                    no                    no   \n",
              "deg-malig                       2                     1                     2   \n",
              "breast                       left                  left                  left   \n",
              "breast-quad              left_low              left_low              left_low   \n",
              "irradiat                       no                    no                    no   \n",
              "\n",
              "                                9  \n",
              "class        no-recurrence-events  \n",
              "age                         40-49  \n",
              "menopause                 premeno  \n",
              "tumor-size                  20-24  \n",
              "inv-nodes                     0-2  \n",
              "node-caps                      no  \n",
              "deg-malig                       2  \n",
              "breast                      right  \n",
              "breast-quad               left_up  \n",
              "irradiat                       no  "
            ]
          },
          "execution_count": 210,
          "metadata": {},
          "output_type": "execute_result"
        }
      ],
      "source": [
        "df.head(10).T"
      ]
    },
    {
      "cell_type": "code",
      "execution_count": null,
      "id": "6b3d7fad",
      "metadata": {
        "id": "6b3d7fad",
        "outputId": "bee4a76c-bac1-42f6-de1a-f57eeaec9489"
      },
      "outputs": [
        {
          "name": "stdout",
          "output_type": "stream",
          "text": [
            "Column 'class' (2 unique values):\n",
            "['no-recurrence-events' 'recurrence-events']\n",
            "..................................................\n",
            "Column 'age' (6 unique values):\n",
            "['30-39' '40-49' '60-69' '50-59' '70-79' '20-29']\n",
            "..................................................\n",
            "Column 'menopause' (3 unique values):\n",
            "['premeno' 'ge40' 'lt40']\n",
            "..................................................\n",
            "Column 'tumor-size' (11 unique values):\n",
            "['30-34' '20-24' '15-19' '0-4' '25-29' '50-54' '10-14' '40-44' '35-39'\n",
            " '5-9' '45-49']\n",
            "..................................................\n",
            "Column 'inv-nodes' (7 unique values):\n",
            "['0-2' '6-8' '9-11' '3-5' '15-17' '12-14' '24-26']\n",
            "..................................................\n",
            "Column 'node-caps' (3 unique values):\n",
            "['no' 'yes' '?']\n",
            "..................................................\n",
            "Column 'breast' (2 unique values):\n",
            "['left' 'right']\n",
            "..................................................\n",
            "Column 'breast-quad' (6 unique values):\n",
            "['left_low' 'right_up' 'left_up' 'right_low' 'central' '?']\n",
            "..................................................\n",
            "Column 'irradiat' (2 unique values):\n",
            "['no' 'yes']\n",
            "..................................................\n"
          ]
        }
      ],
      "source": [
        "for col in df.select_dtypes(include=['object']).columns:\n",
        "    unique_vals= df[col].dropna().unique()\n",
        "    print(f\"Column '{col}' ({len(unique_vals)} unique values):\")\n",
        "    print(unique_vals)\n",
        "    print(\".\" * 50)"
      ]
    },
    {
      "cell_type": "code",
      "execution_count": null,
      "id": "bae1f328",
      "metadata": {
        "id": "bae1f328",
        "outputId": "30bb20ce-2ad5-4079-e124-536ef4ce6cd3"
      },
      "outputs": [
        {
          "name": "stdout",
          "output_type": "stream",
          "text": [
            "Column 'node-caps': '?' = 8, NaN = 0, Total missing = 8\n",
            "Column 'breast-quad': '?' = 1, NaN = 0, Total missing = 1\n"
          ]
        }
      ],
      "source": [
        "for col in df.columns:\n",
        "    q_count = df[col][df[col] == '?'].count()\n",
        "    nan_count = df[col].isna().sum()\n",
        "    total_missing = q_count + nan_count\n",
        "    if total_missing:\n",
        "        print(f\"Column '{col}': '?' = {q_count}, NaN = {nan_count}, Total missing = {total_missing}\")"
      ]
    },
    {
      "cell_type": "code",
      "execution_count": null,
      "id": "8b9b46ad",
      "metadata": {
        "id": "8b9b46ad",
        "outputId": "bd104513-17be-4f1a-fd3c-3fa4a315904a"
      },
      "outputs": [
        {
          "name": "stdout",
          "output_type": "stream",
          "text": [
            "Column 'node-caps': 2.80% missing (including '?')\n",
            "Column 'breast-quad': 0.35% missing (including '?')\n"
          ]
        }
      ],
      "source": [
        "import numpy as np\n",
        "df_missing = df.replace(\"?\", np.nan)\n",
        "\n",
        "\n",
        "missing_proportions = df_missing.isna().mean()\n",
        "\n",
        "for col, prop in missing_proportions.items():\n",
        "    if prop:\n",
        "        print(f\"Column '{col}': {prop:.2%} missing (including '?')\")"
      ]
    },
    {
      "cell_type": "markdown",
      "id": "fcb54eba",
      "metadata": {
        "id": "fcb54eba"
      },
      "source": [
        "The percentage of missing values is very less.So it will not effect the acuracy of the model."
      ]
    },
    {
      "cell_type": "code",
      "execution_count": null,
      "id": "a5ab62ea",
      "metadata": {
        "id": "a5ab62ea"
      },
      "outputs": [],
      "source": [
        "df.replace('?',np.nan,inplace=True)"
      ]
    },
    {
      "cell_type": "code",
      "execution_count": null,
      "id": "fa9e8622",
      "metadata": {
        "id": "fa9e8622"
      },
      "outputs": [],
      "source": [
        "df=df.drop(['breast-quad'],axis=1)\n",
        "df.dropna(subset=['node-caps'],inplace=True)"
      ]
    },
    {
      "cell_type": "code",
      "execution_count": null,
      "id": "8bc70f96",
      "metadata": {
        "id": "8bc70f96",
        "outputId": "99823eff-d7d1-46ae-dc12-dc930d1e504b"
      },
      "outputs": [
        {
          "data": {
            "text/plain": [
              "(278, 9)"
            ]
          },
          "execution_count": 217,
          "metadata": {},
          "output_type": "execute_result"
        }
      ],
      "source": [
        "df.shape"
      ]
    },
    {
      "cell_type": "code",
      "execution_count": null,
      "id": "9490b447",
      "metadata": {
        "id": "9490b447",
        "outputId": "3f5e436c-5bac-418a-e194-1438eff1b31b"
      },
      "outputs": [
        {
          "name": "stdout",
          "output_type": "stream",
          "text": [
            "class 0\n",
            "age 0\n",
            "menopause 0\n",
            "tumor-size 0\n",
            "inv-nodes 0\n",
            "node-caps 0\n",
            "breast 0\n",
            "irradiat 0\n"
          ]
        }
      ],
      "source": [
        "for col in df.columns:\n",
        "    if df[col].dtype == object:\n",
        "         print(col,df[col][df[col] == '?'].count())"
      ]
    },
    {
      "cell_type": "markdown",
      "id": "c80d76b1",
      "metadata": {
        "id": "c80d76b1"
      },
      "source": [
        "We want to predict whether the patient will experience recurrence of cancer based on their clinical results"
      ]
    },
    {
      "cell_type": "code",
      "execution_count": null,
      "id": "69ebc685",
      "metadata": {
        "id": "69ebc685",
        "outputId": "513d60f1-71be-4aa6-c58d-25c213fd05d9"
      },
      "outputs": [
        {
          "name": "stderr",
          "output_type": "stream",
          "text": [
            "/tmp/ipykernel_6288/44797081.py:2: FutureWarning: Downcasting behavior in `replace` is deprecated and will be removed in a future version. To retain the old behavior, explicitly call `result.infer_objects(copy=False)`. To opt-in to the future behavior, set `pd.set_option('future.no_silent_downcasting', True)`\n",
            "  df['class']=df['class'].replace('recurrence-events',1)\n"
          ]
        },
        {
          "data": {
            "text/plain": [
              "class\n",
              "0    196\n",
              "1     82\n",
              "Name: count, dtype: int64"
            ]
          },
          "execution_count": 219,
          "metadata": {},
          "output_type": "execute_result"
        }
      ],
      "source": [
        "df['class']=df['class'].replace('no-recurrence-events',0)\n",
        "df['class']=df['class'].replace('recurrence-events',1)\n",
        "df['class'].value_counts()"
      ]
    },
    {
      "cell_type": "code",
      "execution_count": null,
      "id": "ab015e9f",
      "metadata": {
        "id": "ab015e9f",
        "outputId": "9482a7ad-b2d9-4ffb-d7af-e7c21d513bec"
      },
      "outputs": [
        {
          "data": {
            "image/png": "[encoded data removed]",
            "text/plain": [
              "<Figure size 640x480 with 1 Axes>"
            ]
          },
          "metadata": {},
          "output_type": "display_data"
        }
      ],
      "source": [
        "sns.countplot(x='class',data=df)\n",
        "plt.show()\n"
      ]
    },
    {
      "cell_type": "markdown",
      "id": "a6d56185",
      "metadata": {
        "id": "a6d56185"
      },
      "source": [
        "From the graph we can understand that there is big difference between the proportion of patients getting recurrence of cancer and those who don't."
      ]
    },
    {
      "cell_type": "code",
      "execution_count": null,
      "id": "f06e558c",
      "metadata": {
        "id": "f06e558c",
        "outputId": "af3a2769-2014-4057-9487-500f9f94bd92"
      },
      "outputs": [
        {
          "data": {
            "image/png": "[encoded data removed]",
            "text/plain": [
              "<Figure size 640x480 with 1 Axes>"
            ]
          },
          "metadata": {},
          "output_type": "display_data"
        }
      ],
      "source": [
        "sns.countplot(x='age',data=df)\n",
        "plt.show()"
      ]
    },
    {
      "cell_type": "markdown",
      "id": "b7d0d155",
      "metadata": {
        "id": "b7d0d155"
      },
      "source": [
        "Let's convert age to continues numeric values"
      ]
    },
    {
      "cell_type": "code",
      "execution_count": null,
      "id": "1e936b7a",
      "metadata": {
        "id": "1e936b7a",
        "outputId": "ce66712f-12e4-4597-d434-cb33f901bb88"
      },
      "outputs": [
        {
          "name": "stderr",
          "output_type": "stream",
          "text": [
            "/tmp/ipykernel_6288/524912557.py:1: FutureWarning: Downcasting behavior in `replace` is deprecated and will be removed in a future version. To retain the old behavior, explicitly call `result.infer_objects(copy=False)`. To opt-in to the future behavior, set `pd.set_option('future.no_silent_downcasting', True)`\n",
            "  df['age']=df['age'].replace({'20-29':25,'30-39':35,'40-49':45,'50-59':55,'60-69':65,'70-79':75})\n"
          ]
        }
      ],
      "source": [
        "df['age']=df['age'].replace({'20-29':25,'30-39':35,'40-49':45,'50-59':55,'60-69':65,'70-79':75})"
      ]
    },
    {
      "cell_type": "code",
      "execution_count": null,
      "id": "14ffd7fd",
      "metadata": {
        "id": "14ffd7fd",
        "outputId": "ce4b316e-bb33-48c9-f676-3fce24c64fd4"
      },
      "outputs": [
        {
          "data": {
            "image/png": "[encoded data removed]",
            "text/plain": [
              "<Figure size 640x480 with 1 Axes>"
            ]
          },
          "metadata": {},
          "output_type": "display_data"
        }
      ],
      "source": [
        "sns.countplot(x='age',hue='class',data=df)\n",
        "plt.show()"
      ]
    },
    {
      "cell_type": "markdown",
      "id": "1b0b0990",
      "metadata": {
        "id": "1b0b0990"
      },
      "source": [
        "recurrence event is more in age 45 ,55,65 and less frequent in 75 and no recurrence is for age 25"
      ]
    },
    {
      "cell_type": "code",
      "execution_count": null,
      "id": "29e29040",
      "metadata": {
        "id": "29e29040",
        "outputId": "b28130d8-2696-49a0-913d-088f29c71f73"
      },
      "outputs": [
        {
          "data": {
            "image/png": "[encoded data removed]",
            "text/plain": [
              "<Figure size 640x480 with 1 Axes>"
            ]
          },
          "metadata": {},
          "output_type": "display_data"
        }
      ],
      "source": [
        "df['age']=df['age'].replace(25,75)\n",
        "sns.countplot(x='age',hue='class',data=df)\n",
        "plt.show()\n"
      ]
    },
    {
      "cell_type": "code",
      "execution_count": null,
      "id": "34466905",
      "metadata": {
        "id": "34466905",
        "outputId": "67d0f80d-ef4e-412a-c354-56fdf33c0c31"
      },
      "outputs": [
        {
          "data": {
            "image/png": "[encoded data removed]",
            "text/plain": [
              "<Figure size 640x480 with 1 Axes>"
            ]
          },
          "metadata": {},
          "output_type": "display_data"
        }
      ],
      "source": [
        "sns.countplot(x='menopause',hue='class',data=df)\n",
        "plt.show()"
      ]
    },
    {
      "cell_type": "markdown",
      "id": "99e5ba0a",
      "metadata": {
        "id": "99e5ba0a"
      },
      "source": [
        "recurrence of cancer is more in patients entered premeno and ge40 phases of menopause. let convert these values to numerical values.The patients in premeno stage ie those who not yet entered menopause and lt40 patient less than 40 years old are same.because menopause occur after 40 years."
      ]
    },
    {
      "cell_type": "code",
      "execution_count": null,
      "id": "0fc091f8",
      "metadata": {
        "id": "0fc091f8",
        "outputId": "8153d4aa-2240-43d9-f575-1460149eb657"
      },
      "outputs": [
        {
          "data": {
            "image/png": "[encoded data removed]",
            "text/plain": [
              "<Figure size 640x480 with 1 Axes>"
            ]
          },
          "metadata": {},
          "output_type": "display_data"
        }
      ],
      "source": [
        "df['menopause']=df['menopause'].replace({'premeno':0,'ge40':1,'lt40':0})\n",
        "sns.countplot(x='menopause',hue='class',data=df)\n",
        "plt.show()\n"
      ]
    },
    {
      "cell_type": "code",
      "execution_count": null,
      "id": "6a8b4731",
      "metadata": {
        "id": "6a8b4731",
        "outputId": "5f1e78b1-01f0-47c5-be9e-ebfeaf2a7df4"
      },
      "outputs": [
        {
          "name": "stderr",
          "output_type": "stream",
          "text": [
            "/tmp/ipykernel_6288/2885774504.py:1: FutureWarning: Downcasting behavior in `replace` is deprecated and will be removed in a future version. To retain the old behavior, explicitly call `result.infer_objects(copy=False)`. To opt-in to the future behavior, set `pd.set_option('future.no_silent_downcasting', True)`\n",
            "  df['tumor-size']=df['tumor-size'].replace({'0-4':2,'5-9':7,'10-14':12,'15-19':17,'20-24':22,'25-29':27,'30-34':32,'35-39':37,'40-44':42,'45-49':47,'50-54':52,})\n"
          ]
        },
        {
          "data": {
            "image/png": "[encoded data removed]",
            "text/plain": [
              "<Figure size 640x480 with 1 Axes>"
            ]
          },
          "metadata": {},
          "output_type": "display_data"
        }
      ],
      "source": [
        "df['tumor-size']=df['tumor-size'].replace({'0-4':2,'5-9':7,'10-14':12,'15-19':17,'20-24':22,'25-29':27,'30-34':32,'35-39':37,'40-44':42,'45-49':47,'50-54':52,})\n",
        "sns.countplot(x='tumor-size',hue='class',data=df)\n",
        "plt.show()"
      ]
    },
    {
      "cell_type": "markdown",
      "id": "ad96b3af",
      "metadata": {
        "id": "ad96b3af"
      },
      "source": [
        "So as the size of tumor increases the probablity of recurrence of cancer increases.\n"
      ]
    },
    {
      "cell_type": "code",
      "execution_count": null,
      "id": "23e8bd74",
      "metadata": {
        "id": "23e8bd74",
        "outputId": "c30dfd77-bab7-4eab-9bfd-1b2c18b69657"
      },
      "outputs": [
        {
          "name": "stderr",
          "output_type": "stream",
          "text": [
            "/tmp/ipykernel_6288/1405172372.py:1: FutureWarning: Downcasting behavior in `replace` is deprecated and will be removed in a future version. To retain the old behavior, explicitly call `result.infer_objects(copy=False)`. To opt-in to the future behavior, set `pd.set_option('future.no_silent_downcasting', True)`\n",
            "  df['inv-nodes']=df['inv-nodes'].replace({'0-2':1,'3-5':4,'6-8':7,'9-11':10,'12-14':13,'15-17':16,'24-26':25})\n"
          ]
        },
        {
          "data": {
            "image/png": "[encoded data removed]",
            "text/plain": [
              "<Figure size 640x480 with 1 Axes>"
            ]
          },
          "metadata": {},
          "output_type": "display_data"
        }
      ],
      "source": [
        "df['inv-nodes']=df['inv-nodes'].replace({'0-2':1,'3-5':4,'6-8':7,'9-11':10,'12-14':13,'15-17':16,'24-26':25})\n",
        "sns.countplot(x='inv-nodes',hue='class',data=df)\n",
        "plt.show()"
      ]
    },
    {
      "cell_type": "markdown",
      "id": "ab9ca61e",
      "metadata": {
        "id": "ab9ca61e"
      },
      "source": [
        "As the number of inv-nodes increases the probobality of recurrence of cancer also increase."
      ]
    },
    {
      "cell_type": "code",
      "execution_count": null,
      "id": "04b84617",
      "metadata": {
        "id": "04b84617"
      },
      "outputs": [],
      "source": []
    },
    {
      "cell_type": "code",
      "execution_count": null,
      "id": "b6d24aba",
      "metadata": {
        "id": "b6d24aba",
        "outputId": "beb33c68-c9af-47ed-e3ee-2d96eeb8ed06"
      },
      "outputs": [
        {
          "data": {
            "image/png": "[encoded data removed]",
            "text/plain": [
              "<Figure size 640x480 with 1 Axes>"
            ]
          },
          "metadata": {},
          "output_type": "display_data"
        }
      ],
      "source": [
        "df['node-caps']=df['node-caps'].replace({'no':0,'yes':1})\n",
        "sns.countplot(x='node-caps',hue='class',data=df)\n",
        "plt.show()"
      ]
    },
    {
      "cell_type": "markdown",
      "id": "21004788",
      "metadata": {
        "id": "21004788"
      },
      "source": [
        "If the  cancer has spread beyond the wall (capsule) of the lymph nodes ie when node-cap is 'yes' the probablity of reccurence of cancer is huge."
      ]
    },
    {
      "cell_type": "code",
      "execution_count": null,
      "id": "f038e72c",
      "metadata": {
        "id": "f038e72c",
        "outputId": "142ac33c-9b64-4b7a-8821-0b69d4c39d3d"
      },
      "outputs": [
        {
          "name": "stderr",
          "output_type": "stream",
          "text": [
            "/tmp/ipykernel_6288/1192044277.py:1: FutureWarning: Downcasting behavior in `replace` is deprecated and will be removed in a future version. To retain the old behavior, explicitly call `result.infer_objects(copy=False)`. To opt-in to the future behavior, set `pd.set_option('future.no_silent_downcasting', True)`\n",
            "  df['breast']=df['breast'].replace({'left':0,'right':1})\n"
          ]
        },
        {
          "data": {
            "image/png": "[encoded data removed]",
            "text/plain": [
              "<Figure size 640x480 with 1 Axes>"
            ]
          },
          "metadata": {},
          "output_type": "display_data"
        }
      ],
      "source": [
        "df['breast']=df['breast'].replace({'left':0,'right':1})\n",
        "sns.countplot(x='breast',hue='class',data=df)\n",
        "plt.show()"
      ]
    },
    {
      "cell_type": "markdown",
      "id": "592438db",
      "metadata": {
        "id": "592438db"
      },
      "source": [
        "The probablity of reccurence is almost equal when the breast is left or right side"
      ]
    },
    {
      "cell_type": "code",
      "execution_count": null,
      "id": "49012149",
      "metadata": {
        "id": "49012149",
        "outputId": "b0b9d0f8-2b8d-40c7-8d53-e34633c1e2b3"
      },
      "outputs": [
        {
          "data": {
            "image/png": "[encoded data removed]",
            "text/plain": [
              "<Figure size 640x480 with 1 Axes>"
            ]
          },
          "metadata": {},
          "output_type": "display_data"
        }
      ],
      "source": [
        "df['irradiat']=df['irradiat'].replace({'no':0,'yes':1})\n",
        "sns.countplot(x='irradiat',hue='class',data=df)\n",
        "plt.show()"
      ]
    },
    {
      "cell_type": "markdown",
      "id": "47877515",
      "metadata": {
        "id": "47877515"
      },
      "source": [
        "The patients who undergone radiant therapy has more probablity of reccurence of cancer."
      ]
    },
    {
      "cell_type": "code",
      "execution_count": null,
      "id": "72528103",
      "metadata": {
        "id": "72528103",
        "outputId": "5028f930-5118-44f3-990d-12d0ff8ced08"
      },
      "outputs": [
        {
          "data": {
            "text/plain": [
              "Index(['class', 'age', 'menopause', 'tumor-size', 'inv-nodes', 'node-caps',\n",
              "       'deg-malig', 'breast', 'irradiat'],\n",
              "      dtype='object')"
            ]
          },
          "execution_count": 234,
          "metadata": {},
          "output_type": "execute_result"
        }
      ],
      "source": [
        "df.columns"
      ]
    },
    {
      "cell_type": "code",
      "execution_count": null,
      "id": "375466a7",
      "metadata": {
        "id": "375466a7",
        "outputId": "0e5b5b35-c095-4d93-c389-a18006755cef"
      },
      "outputs": [
        {
          "data": {
            "text/plain": [
              "<Axes: >"
            ]
          },
          "execution_count": 235,
          "metadata": {},
          "output_type": "execute_result"
        },
        {
          "data": {
            "image/png": "[encoded data removed]",
            "text/plain": [
              "<Figure size 1000x600 with 2 Axes>"
            ]
          },
          "metadata": {},
          "output_type": "display_data"
        }
      ],
      "source": [
        "cols=['class','age', 'menopause', 'tumor-size', 'inv-nodes', 'node-caps',\n",
        "       'deg-malig', 'breast', 'irradiat']\n",
        "ncols = df[cols].select_dtypes(include=['number']).columns.tolist()\n",
        "corr_matrix = df[ncols].corr()\n",
        "plt.figure(figsize=(10, 6))\n",
        "sns.heatmap(corr_matrix, annot=True, fmt=\".2f\", cmap='coolwarm', center=0)"
      ]
    },
    {
      "cell_type": "markdown",
      "id": "ebebbd80",
      "metadata": {
        "id": "ebebbd80"
      },
      "source": [
        "The columns are not highly correlated"
      ]
    },
    {
      "cell_type": "code",
      "execution_count": null,
      "id": "8f618f6b",
      "metadata": {
        "id": "8f618f6b",
        "outputId": "d55a6c7e-7f00-468f-f97b-8dc954663384"
      },
      "outputs": [
        {
          "data": {
            "text/html": [
              "<div>\n",
              "<style scoped>\n",
              "    .dataframe tbody tr th:only-of-type {\n",
              "        vertical-align: middle;\n",
              "    }\n",
              "\n",
              "    .dataframe tbody tr th {\n",
              "        vertical-align: top;\n",
              "    }\n",
              "\n",
              "    .dataframe thead th {\n",
              "        text-align: right;\n",
              "    }\n",
              "</style>\n",
              "<table border=\"1\" class=\"dataframe\">\n",
              "  <thead>\n",
              "    <tr style=\"text-align: right;\">\n",
              "      <th></th>\n",
              "      <th>numeric_column</th>\n",
              "      <th>skew_before</th>\n",
              "      <th>kurtosis_before</th>\n",
              "      <th>std_before</th>\n",
              "      <th>log_transform_needed</th>\n",
              "      <th>log_type</th>\n",
              "      <th>skew_after</th>\n",
              "      <th>kurtosis_after</th>\n",
              "      <th>std_after</th>\n",
              "    </tr>\n",
              "  </thead>\n",
              "  <tbody>\n",
              "    <tr>\n",
              "      <th>0</th>\n",
              "      <td>class</td>\n",
              "      <td>0.904114</td>\n",
              "      <td>-1.191200</td>\n",
              "      <td>0.456849</td>\n",
              "      <td>No</td>\n",
              "      <td>NA</td>\n",
              "      <td>0.904114</td>\n",
              "      <td>-1.191200</td>\n",
              "      <td>0.456849</td>\n",
              "    </tr>\n",
              "    <tr>\n",
              "      <th>1</th>\n",
              "      <td>age</td>\n",
              "      <td>0.075033</td>\n",
              "      <td>-0.694810</td>\n",
              "      <td>10.057880</td>\n",
              "      <td>No</td>\n",
              "      <td>NA</td>\n",
              "      <td>0.075033</td>\n",
              "      <td>-0.694810</td>\n",
              "      <td>10.057880</td>\n",
              "    </tr>\n",
              "    <tr>\n",
              "      <th>2</th>\n",
              "      <td>menopause</td>\n",
              "      <td>0.218275</td>\n",
              "      <td>-1.966556</td>\n",
              "      <td>0.497977</td>\n",
              "      <td>No</td>\n",
              "      <td>NA</td>\n",
              "      <td>0.218275</td>\n",
              "      <td>-1.966556</td>\n",
              "      <td>0.497977</td>\n",
              "    </tr>\n",
              "    <tr>\n",
              "      <th>3</th>\n",
              "      <td>tumor-size</td>\n",
              "      <td>0.052050</td>\n",
              "      <td>-0.041343</td>\n",
              "      <td>10.648285</td>\n",
              "      <td>No</td>\n",
              "      <td>NA</td>\n",
              "      <td>0.052050</td>\n",
              "      <td>-0.041343</td>\n",
              "      <td>10.648285</td>\n",
              "    </tr>\n",
              "    <tr>\n",
              "      <th>4</th>\n",
              "      <td>inv-nodes</td>\n",
              "      <td>3.080230</td>\n",
              "      <td>11.251322</td>\n",
              "      <td>3.408155</td>\n",
              "      <td>Yes</td>\n",
              "      <td>log</td>\n",
              "      <td>1.546068</td>\n",
              "      <td>0.977213</td>\n",
              "      <td>0.823491</td>\n",
              "    </tr>\n",
              "    <tr>\n",
              "      <th>5</th>\n",
              "      <td>node-caps</td>\n",
              "      <td>1.496893</td>\n",
              "      <td>0.242381</td>\n",
              "      <td>0.401798</td>\n",
              "      <td>No</td>\n",
              "      <td>NA</td>\n",
              "      <td>1.496893</td>\n",
              "      <td>0.242381</td>\n",
              "      <td>0.401798</td>\n",
              "    </tr>\n",
              "    <tr>\n",
              "      <th>6</th>\n",
              "      <td>deg-malig</td>\n",
              "      <td>-0.095076</td>\n",
              "      <td>-1.116900</td>\n",
              "      <td>0.730858</td>\n",
              "      <td>No</td>\n",
              "      <td>NA</td>\n",
              "      <td>-0.095076</td>\n",
              "      <td>-1.116900</td>\n",
              "      <td>0.730858</td>\n",
              "    </tr>\n",
              "    <tr>\n",
              "      <th>7</th>\n",
              "      <td>breast</td>\n",
              "      <td>0.101395</td>\n",
              "      <td>-2.004190</td>\n",
              "      <td>0.500266</td>\n",
              "      <td>No</td>\n",
              "      <td>NA</td>\n",
              "      <td>0.101395</td>\n",
              "      <td>-2.004190</td>\n",
              "      <td>0.500266</td>\n",
              "    </tr>\n",
              "    <tr>\n",
              "      <th>8</th>\n",
              "      <td>irradiat</td>\n",
              "      <td>1.337985</td>\n",
              "      <td>-0.211369</td>\n",
              "      <td>0.417023</td>\n",
              "      <td>No</td>\n",
              "      <td>NA</td>\n",
              "      <td>1.337985</td>\n",
              "      <td>-0.211369</td>\n",
              "      <td>0.417023</td>\n",
              "    </tr>\n",
              "  </tbody>\n",
              "</table>\n",
              "</div>"
            ],
            "text/plain": [
              "  numeric_column  skew_before  kurtosis_before  std_before  \\\n",
              "0          class     0.904114        -1.191200    0.456849   \n",
              "1            age     0.075033        -0.694810   10.057880   \n",
              "2      menopause     0.218275        -1.966556    0.497977   \n",
              "3     tumor-size     0.052050        -0.041343   10.648285   \n",
              "4      inv-nodes     3.080230        11.251322    3.408155   \n",
              "5      node-caps     1.496893         0.242381    0.401798   \n",
              "6      deg-malig    -0.095076        -1.116900    0.730858   \n",
              "7         breast     0.101395        -2.004190    0.500266   \n",
              "8       irradiat     1.337985        -0.211369    0.417023   \n",
              "\n",
              "  log_transform_needed log_type  skew_after  kurtosis_after  std_after  \n",
              "0                   No       NA    0.904114       -1.191200   0.456849  \n",
              "1                   No       NA    0.075033       -0.694810  10.057880  \n",
              "2                   No       NA    0.218275       -1.966556   0.497977  \n",
              "3                   No       NA    0.052050       -0.041343  10.648285  \n",
              "4                  Yes      log    1.546068        0.977213   0.823491  \n",
              "5                   No       NA    1.496893        0.242381   0.401798  \n",
              "6                   No       NA   -0.095076       -1.116900   0.730858  \n",
              "7                   No       NA    0.101395       -2.004190   0.500266  \n",
              "8                   No       NA    1.337985       -0.211369   0.417023  "
            ]
          },
          "execution_count": 236,
          "metadata": {},
          "output_type": "execute_result"
        }
      ],
      "source": [
        "ncl2 = df.select_dtypes(include=np.number).columns\n",
        "SKEW_THRESHOLD = 2.0\n",
        "KURT_THRESHOLD = 2.0\n",
        "ZERO_RATIO_THRESHOLD = 0.10\n",
        "dft = df.copy()\n",
        "stats_list = []\n",
        "for col in ncl2:\n",
        "    series = dft[col]\n",
        "    skew_before = series.skew()\n",
        "    kurt_before = series.kurtosis()\n",
        "    std_before = series.std()\n",
        "    transform_type = \"NA\"\n",
        "    transform_needed = \"No\"\n",
        "    skew_after = skew_before\n",
        "    kurt_after = kurt_before\n",
        "    std_after = std_before\n",
        "\n",
        "    if abs(skew_before) > SKEW_THRESHOLD and abs(kurt_before) > KURT_THRESHOLD:\n",
        "        zero_ratio = (series == 0).mean()\n",
        "\n",
        "        if zero_ratio <= ZERO_RATIO_THRESHOLD and (series > 0).all():\n",
        "            transform_type = \"log\"\n",
        "            dft[col] = np.log(series)\n",
        "        else:\n",
        "            transform_type = \"log1p\"\n",
        "            dft[col] = np.log1p(series.clip(lower=0))\n",
        "\n",
        "        transform_needed = \"Yes\"\n",
        "        skew_after = dft[col].skew()\n",
        "        kurt_after = dft[col].kurtosis()\n",
        "        std_after = dft[col].std()\n",
        "\n",
        "    stats_list.append({\n",
        "        \"numeric_column\": col,\n",
        "        \"skew_before\": skew_before,\n",
        "        \"kurtosis_before\": kurt_before,\n",
        "        \"std_before\": std_before,\n",
        "        \"log_transform_needed\": transform_needed,\n",
        "        \"log_type\": transform_type,\n",
        "        \"skew_after\": skew_after,\n",
        "        \"kurtosis_after\": kurt_after,\n",
        "        \"std_after\": std_after\n",
        "    })\n",
        "\n",
        "stat_df = pd.DataFrame(stats_list)\n",
        "stat_df"
      ]
    },
    {
      "cell_type": "markdown",
      "id": "acb3b928",
      "metadata": {
        "id": "acb3b928"
      },
      "source": [
        "no column need log or log1p transformation"
      ]
    },
    {
      "cell_type": "code",
      "execution_count": null,
      "id": "59afb15e",
      "metadata": {
        "id": "59afb15e",
        "outputId": "50619aa4-4d0c-4adc-e0df-66cd714e9e89"
      },
      "outputs": [
        {
          "data": {
            "text/html": [
              "<div>\n",
              "<style scoped>\n",
              "    .dataframe tbody tr th:only-of-type {\n",
              "        vertical-align: middle;\n",
              "    }\n",
              "\n",
              "    .dataframe tbody tr th {\n",
              "        vertical-align: top;\n",
              "    }\n",
              "\n",
              "    .dataframe thead th {\n",
              "        text-align: right;\n",
              "    }\n",
              "</style>\n",
              "<table border=\"1\" class=\"dataframe\">\n",
              "  <thead>\n",
              "    <tr style=\"text-align: right;\">\n",
              "      <th></th>\n",
              "      <th>0</th>\n",
              "      <th>1</th>\n",
              "      <th>2</th>\n",
              "      <th>3</th>\n",
              "      <th>4</th>\n",
              "      <th>5</th>\n",
              "      <th>6</th>\n",
              "      <th>7</th>\n",
              "      <th>8</th>\n",
              "      <th>9</th>\n",
              "    </tr>\n",
              "  </thead>\n",
              "  <tbody>\n",
              "    <tr>\n",
              "      <th>class</th>\n",
              "      <td>0</td>\n",
              "      <td>0</td>\n",
              "      <td>0</td>\n",
              "      <td>0</td>\n",
              "      <td>0</td>\n",
              "      <td>0</td>\n",
              "      <td>0</td>\n",
              "      <td>0</td>\n",
              "      <td>0</td>\n",
              "      <td>0</td>\n",
              "    </tr>\n",
              "    <tr>\n",
              "      <th>age</th>\n",
              "      <td>35</td>\n",
              "      <td>45</td>\n",
              "      <td>45</td>\n",
              "      <td>65</td>\n",
              "      <td>45</td>\n",
              "      <td>65</td>\n",
              "      <td>55</td>\n",
              "      <td>65</td>\n",
              "      <td>45</td>\n",
              "      <td>45</td>\n",
              "    </tr>\n",
              "    <tr>\n",
              "      <th>menopause</th>\n",
              "      <td>0</td>\n",
              "      <td>0</td>\n",
              "      <td>0</td>\n",
              "      <td>1</td>\n",
              "      <td>0</td>\n",
              "      <td>1</td>\n",
              "      <td>0</td>\n",
              "      <td>1</td>\n",
              "      <td>0</td>\n",
              "      <td>0</td>\n",
              "    </tr>\n",
              "    <tr>\n",
              "      <th>tumor-size</th>\n",
              "      <td>32</td>\n",
              "      <td>22</td>\n",
              "      <td>22</td>\n",
              "      <td>17</td>\n",
              "      <td>2</td>\n",
              "      <td>17</td>\n",
              "      <td>27</td>\n",
              "      <td>22</td>\n",
              "      <td>52</td>\n",
              "      <td>22</td>\n",
              "    </tr>\n",
              "    <tr>\n",
              "      <th>inv-nodes</th>\n",
              "      <td>1</td>\n",
              "      <td>1</td>\n",
              "      <td>1</td>\n",
              "      <td>1</td>\n",
              "      <td>1</td>\n",
              "      <td>1</td>\n",
              "      <td>1</td>\n",
              "      <td>1</td>\n",
              "      <td>1</td>\n",
              "      <td>1</td>\n",
              "    </tr>\n",
              "    <tr>\n",
              "      <th>node-caps</th>\n",
              "      <td>0</td>\n",
              "      <td>0</td>\n",
              "      <td>0</td>\n",
              "      <td>0</td>\n",
              "      <td>0</td>\n",
              "      <td>0</td>\n",
              "      <td>0</td>\n",
              "      <td>0</td>\n",
              "      <td>0</td>\n",
              "      <td>0</td>\n",
              "    </tr>\n",
              "    <tr>\n",
              "      <th>deg-malig</th>\n",
              "      <td>3</td>\n",
              "      <td>2</td>\n",
              "      <td>2</td>\n",
              "      <td>2</td>\n",
              "      <td>2</td>\n",
              "      <td>2</td>\n",
              "      <td>2</td>\n",
              "      <td>1</td>\n",
              "      <td>2</td>\n",
              "      <td>2</td>\n",
              "    </tr>\n",
              "    <tr>\n",
              "      <th>breast</th>\n",
              "      <td>0</td>\n",
              "      <td>1</td>\n",
              "      <td>0</td>\n",
              "      <td>1</td>\n",
              "      <td>1</td>\n",
              "      <td>0</td>\n",
              "      <td>0</td>\n",
              "      <td>0</td>\n",
              "      <td>0</td>\n",
              "      <td>1</td>\n",
              "    </tr>\n",
              "    <tr>\n",
              "      <th>irradiat</th>\n",
              "      <td>0</td>\n",
              "      <td>0</td>\n",
              "      <td>0</td>\n",
              "      <td>0</td>\n",
              "      <td>0</td>\n",
              "      <td>0</td>\n",
              "      <td>0</td>\n",
              "      <td>0</td>\n",
              "      <td>0</td>\n",
              "      <td>0</td>\n",
              "    </tr>\n",
              "  </tbody>\n",
              "</table>\n",
              "</div>"
            ],
            "text/plain": [
              "             0   1   2   3   4   5   6   7   8   9\n",
              "class        0   0   0   0   0   0   0   0   0   0\n",
              "age         35  45  45  65  45  65  55  65  45  45\n",
              "menopause    0   0   0   1   0   1   0   1   0   0\n",
              "tumor-size  32  22  22  17   2  17  27  22  52  22\n",
              "inv-nodes    1   1   1   1   1   1   1   1   1   1\n",
              "node-caps    0   0   0   0   0   0   0   0   0   0\n",
              "deg-malig    3   2   2   2   2   2   2   1   2   2\n",
              "breast       0   1   0   1   1   0   0   0   0   1\n",
              "irradiat     0   0   0   0   0   0   0   0   0   0"
            ]
          },
          "execution_count": 237,
          "metadata": {},
          "output_type": "execute_result"
        }
      ],
      "source": [
        "df.head(10).T"
      ]
    },
    {
      "cell_type": "code",
      "execution_count": null,
      "id": "d60b4456",
      "metadata": {
        "id": "d60b4456",
        "outputId": "485b3992-0731-4523-ef95-5e371f323c32"
      },
      "outputs": [
        {
          "name": "stdout",
          "output_type": "stream",
          "text": [
            "done\n"
          ]
        }
      ],
      "source": [
        "import pickle as pcl\n",
        "with open('us_130.pkl','wb') as f:\n",
        "    pcl.dump(df,f)\n",
        "print('done')"
      ]
    }
  ],
  "metadata": {
    "kernelspec": {
      "display_name": "myenv",
      "language": "python",
      "name": "python3"
    },
    "language_info": {
      "codemirror_mode": {
        "name": "ipython",
        "version": 3
      },
      "file_extension": ".py",
      "mimetype": "text/x-python",
      "name": "python",
      "nbconvert_exporter": "python",
      "pygments_lexer": "ipython3",
      "version": "3.10.18"
    },
    "colab": {
      "provenance": [],
      "include_colab_link": true
    }
  },
  "nbformat": 4,
  "nbformat_minor": 5
}