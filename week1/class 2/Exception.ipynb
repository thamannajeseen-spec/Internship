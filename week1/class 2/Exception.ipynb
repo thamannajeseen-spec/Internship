{
  "nbformat": 4,
  "nbformat_minor": 0,
  "metadata": {
    "colab": {
      "provenance": [],
      "authorship_tag": "ABX9TyOyKEvwa28cLozoC24zQ3ef",
      "include_colab_link": true
    },
    "kernelspec": {
      "name": "python3",
      "display_name": "Python 3"
    },
    "language_info": {
      "name": "python"
    }
  },
  "cells": [
    {
      "cell_type": "markdown",
      "metadata": {
        "id": "view-in-github",
        "colab_type": "text"
      },
      "source": [
        "<a href=\"https://colab.research.google.com/github/thamannajeseen-spec/Internship/blob/main/Exception.ipynb\" target=\"_parent\"><img src=\"https://colab.research.google.com/assets/colab-badge.svg\" alt=\"Open In Colab\"/></a>"
      ]
    },
    {
      "cell_type": "code",
      "execution_count": 7,
      "metadata": {
        "id": "J1f4Rsy73Ndn",
        "colab": {
          "base_uri": "https://localhost:8080/"
        },
        "outputId": "f37de2a3-ee2f-4ea2-cd51-a6d562af1afd"
      },
      "outputs": [
        {
          "output_type": "stream",
          "name": "stdout",
          "text": [
            "enter first number:6\n",
            "enter second number:3\n",
            "2.0\n",
            "The operation is complete\n"
          ]
        }
      ],
      "source": [
        "try:\n",
        "  x=float(input('enter first number:'))\n",
        "  y=float(input('enter second number:'))\n",
        "  result=x/y\n",
        "except ZeroDivisionError:\n",
        "  print('Cannot devide by zero')\n",
        "except ValueError:\n",
        "  print('Enter a valid number')\n",
        "else:\n",
        "  print(result)\n",
        "finally:\n",
        "  print('The operation is complete')\n",
        "\n"
      ]
    }
  ]
}