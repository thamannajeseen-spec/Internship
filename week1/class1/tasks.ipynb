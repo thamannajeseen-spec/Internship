{
  "nbformat": 4,
  "nbformat_minor": 0,
  "metadata": {
    "colab": {
      "provenance": [],
      "authorship_tag": "ABX9TyO2MpjMnEHveFhZnV/sOo9x",
      "include_colab_link": true
    },
    "kernelspec": {
      "name": "python3",
      "display_name": "Python 3"
    },
    "language_info": {
      "name": "python"
    }
  },
  "cells": [
    {
      "cell_type": "markdown",
      "metadata": {
        "id": "view-in-github",
        "colab_type": "text"
      },
      "source": [
        "<a href=\"https://colab.research.google.com/github/thamannajeseen-spec/Internship/blob/main/tasks.ipynb\" target=\"_parent\"><img src=\"https://colab.research.google.com/assets/colab-badge.svg\" alt=\"Open In Colab\"/></a>"
      ]
    },
    {
      "cell_type": "code",
      "source": [
        "#Task 1\n",
        "def digit_sum(n):\n",
        "  a=str(n)\n",
        "  b=[int(digit) for digit in a]\n",
        "  print(sum(b))\n",
        "digit_sum(379)\n"
      ],
      "metadata": {
        "colab": {
          "base_uri": "https://localhost:8080/"
        },
        "id": "-rl1pbphxoum",
        "outputId": "38a05e94-84fd-473e-da21-d66f6dbdc245"
      },
      "execution_count": 30,
      "outputs": [
        {
          "output_type": "stream",
          "name": "stdout",
          "text": [
            "19\n"
          ]
        }
      ]
    },
    {
      "cell_type": "code",
      "source": [
        "#Task 2\n",
        "dic={'integer':0,'float':0,'string':0}\n",
        "def mylist(n):\n",
        "  for item in n:\n",
        "    if type(item)==int:\n",
        "      dic['integer']=dic['integer']+1\n",
        "    elif type(item)==float:\n",
        "      dic['float']=dic['float']+1\n",
        "    else:\n",
        "      dic['string']=dic['string']+1\n",
        "  print(dic)\n",
        "mylist([7, 15, 25, 1.5, 55, \"Anna\", \"Akhil\",3.6, \"Akshay\"])\n"
      ],
      "metadata": {
        "colab": {
          "base_uri": "https://localhost:8080/"
        },
        "id": "hZwmZgU71pln",
        "outputId": "cb1903e0-4177-40f9-d226-e1f007c609c1"
      },
      "execution_count": 41,
      "outputs": [
        {
          "output_type": "stream",
          "name": "stdout",
          "text": [
            "{'integer': 4, 'float': 2, 'string': 3}\n"
          ]
        }
      ]
    },
    {
      "cell_type": "code",
      "source": [
        "#Task 3\n",
        "num={'sum':0,'average':0,'min':0,'max':0}\n",
        "def mynumbers(n):\n",
        "  for item in n:\n",
        "    num['sum']=sum(n)\n",
        "    num['average']=(sum(n)/len(n))\n",
        "    num['min']=min(n)\n",
        "    num['max']=max(n)\n",
        "  print(num)\n",
        "mynumbers([1,3,6,7,9])\n",
        "\n"
      ],
      "metadata": {
        "colab": {
          "base_uri": "https://localhost:8080/"
        },
        "id": "rfkeu3AN500W",
        "outputId": "d38fe5f5-4137-4d7d-cf0f-fb785574b1a8"
      },
      "execution_count": 47,
      "outputs": [
        {
          "output_type": "stream",
          "name": "stdout",
          "text": [
            "{'sum': 26, 'average': 5.2, 'min': 1, 'max': 9}\n"
          ]
        }
      ]
    },
    {
      "cell_type": "code",
      "source": [
        "#Task 4\n",
        "w={'vowels':0,'constants':0}\n",
        "vowels=['a','e','i','o','u']\n",
        "def mywords(n):\n",
        "  for i in n:\n",
        "    if i in vowels:\n",
        "      w['vowels']+=1\n",
        "    else:\n",
        "      w['constants']+=1\n",
        "  print(w)\n",
        "mywords('abcde')"
      ],
      "metadata": {
        "colab": {
          "base_uri": "https://localhost:8080/"
        },
        "id": "_oLGgsmX82s0",
        "outputId": "60dc2925-860b-4907-a5fc-38b69538bd41"
      },
      "execution_count": 50,
      "outputs": [
        {
          "output_type": "stream",
          "name": "stdout",
          "text": [
            "{'vowels': 2, 'constants': 3}\n"
          ]
        }
      ]
    },
    {
      "cell_type": "code",
      "source": [],
      "metadata": {
        "id": "fWyFgvBO_Lan"
      },
      "execution_count": null,
      "outputs": []
    }
  ]
}