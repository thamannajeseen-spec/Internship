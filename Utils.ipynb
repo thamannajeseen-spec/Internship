{
  "nbformat": 4,
  "nbformat_minor": 0,
  "metadata": {
    "colab": {
      "provenance": [],
      "authorship_tag": "ABX9TyMaIJHB0mgJk6hJ57ymh02E",
      "include_colab_link": true
    },
    "kernelspec": {
      "name": "python3",
      "display_name": "Python 3"
    },
    "language_info": {
      "name": "python"
    }
  },
  "cells": [
    {
      "cell_type": "markdown",
      "metadata": {
        "id": "view-in-github",
        "colab_type": "text"
      },
      "source": [
        "<a href=\"https://colab.research.google.com/github/thamannajeseen-spec/Internship/blob/main/Utils.ipynb\" target=\"_parent\"><img src=\"https://colab.research.google.com/assets/colab-badge.svg\" alt=\"Open In Colab\"/></a>"
      ]
    },
    {
      "cell_type": "code",
      "execution_count": 10,
      "metadata": {
        "id": "F9CQDBugtHqF"
      },
      "outputs": [],
      "source": [
        "import os\n",
        "a='utils'\n",
        "os.makedirs(a,exist_ok=True)"
      ]
    },
    {
      "cell_type": "code",
      "source": [
        "%%writefile -a utils/springs.py\n",
        "def count_words(text):\n",
        "  if not isinstance(text,str):\n",
        "    return 0\n",
        "  return len(text.split())\n"
      ],
      "metadata": {
        "colab": {
          "base_uri": "https://localhost:8080/"
        },
        "id": "vRsxytActb5S",
        "outputId": "4ca96f20-478e-4e8b-e1db-0efcccd4a822"
      },
      "execution_count": 24,
      "outputs": [
        {
          "output_type": "stream",
          "name": "stdout",
          "text": [
            "Appending to utils/springs.py\n"
          ]
        }
      ]
    },
    {
      "cell_type": "code",
      "source": [
        "%%writefile -a utils/numbers.py\n",
        "def factorial(n):\n",
        "  factorial=1\n",
        "  for i in range(1,n+1):\n",
        "    factorial=factorial*i\n",
        "    return(factorial)"
      ],
      "metadata": {
        "colab": {
          "base_uri": "https://localhost:8080/"
        },
        "id": "ofGVfT_cvrlw",
        "outputId": "45067b22-a844-44d4-d3f0-6efc7588adbc"
      },
      "execution_count": 23,
      "outputs": [
        {
          "output_type": "stream",
          "name": "stdout",
          "text": [
            "Appending to utils/numbers.py\n"
          ]
        }
      ]
    }
  ]
}